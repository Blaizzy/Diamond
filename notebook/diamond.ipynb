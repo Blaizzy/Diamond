{
 "cells": [
  {
   "cell_type": "code",
   "execution_count": 2,
   "metadata": {},
   "outputs": [],
   "source": [
    "import numpy as np\n",
    "import pandas as pd\n",
    "import torch\n",
    "import torch.nn.functional as F\n",
    "from torch.utils.data import DataLoader, Dataset, SubsetRandomSampler\n",
    "import torch.nn as nn\n",
    "from sklearn import preprocessing"
   ]
  },
  {
   "cell_type": "code",
   "execution_count": 14,
   "metadata": {},
   "outputs": [
    {
     "data": {
      "text/html": [
       "<div>\n",
       "<style scoped>\n",
       "    .dataframe tbody tr th:only-of-type {\n",
       "        vertical-align: middle;\n",
       "    }\n",
       "\n",
       "    .dataframe tbody tr th {\n",
       "        vertical-align: top;\n",
       "    }\n",
       "\n",
       "    .dataframe thead th {\n",
       "        text-align: right;\n",
       "    }\n",
       "</style>\n",
       "<table border=\"1\" class=\"dataframe\">\n",
       "  <thead>\n",
       "    <tr style=\"text-align: right;\">\n",
       "      <th></th>\n",
       "      <th>carat</th>\n",
       "      <th>cut</th>\n",
       "      <th>color</th>\n",
       "      <th>clarity</th>\n",
       "      <th>depth</th>\n",
       "      <th>table</th>\n",
       "      <th>z</th>\n",
       "      <th>x</th>\n",
       "      <th>y</th>\n",
       "      <th>price</th>\n",
       "    </tr>\n",
       "  </thead>\n",
       "  <tbody>\n",
       "    <tr>\n",
       "      <th>0</th>\n",
       "      <td>0</td>\n",
       "      <td>0</td>\n",
       "      <td>0</td>\n",
       "      <td>0</td>\n",
       "      <td>0.23</td>\n",
       "      <td>0</td>\n",
       "      <td>0</td>\n",
       "      <td>0</td>\n",
       "      <td>3.95</td>\n",
       "      <td>55.0</td>\n",
       "    </tr>\n",
       "    <tr>\n",
       "      <th>1</th>\n",
       "      <td>1</td>\n",
       "      <td>1</td>\n",
       "      <td>1</td>\n",
       "      <td>1</td>\n",
       "      <td>0.21</td>\n",
       "      <td>1</td>\n",
       "      <td>0</td>\n",
       "      <td>1</td>\n",
       "      <td>3.89</td>\n",
       "      <td>61.0</td>\n",
       "    </tr>\n",
       "    <tr>\n",
       "      <th>2</th>\n",
       "      <td>2</td>\n",
       "      <td>2</td>\n",
       "      <td>2</td>\n",
       "      <td>2</td>\n",
       "      <td>0.23</td>\n",
       "      <td>2</td>\n",
       "      <td>0</td>\n",
       "      <td>2</td>\n",
       "      <td>4.05</td>\n",
       "      <td>65.0</td>\n",
       "    </tr>\n",
       "    <tr>\n",
       "      <th>3</th>\n",
       "      <td>3</td>\n",
       "      <td>3</td>\n",
       "      <td>3</td>\n",
       "      <td>3</td>\n",
       "      <td>0.29</td>\n",
       "      <td>1</td>\n",
       "      <td>1</td>\n",
       "      <td>3</td>\n",
       "      <td>4.20</td>\n",
       "      <td>58.0</td>\n",
       "    </tr>\n",
       "    <tr>\n",
       "      <th>4</th>\n",
       "      <td>4</td>\n",
       "      <td>4</td>\n",
       "      <td>4</td>\n",
       "      <td>4</td>\n",
       "      <td>0.31</td>\n",
       "      <td>2</td>\n",
       "      <td>2</td>\n",
       "      <td>0</td>\n",
       "      <td>4.34</td>\n",
       "      <td>58.0</td>\n",
       "    </tr>\n",
       "  </tbody>\n",
       "</table>\n",
       "</div>"
      ],
      "text/plain": [
       "   carat  cut  color  clarity  depth  table  z  x     y  price\n",
       "0      0    0      0        0   0.23      0  0  0  3.95   55.0\n",
       "1      1    1      1        1   0.21      1  0  1  3.89   61.0\n",
       "2      2    2      2        2   0.23      2  0  2  4.05   65.0\n",
       "3      3    3      3        3   0.29      1  1  3  4.20   58.0\n",
       "4      4    4      4        4   0.31      2  2  0  4.34   58.0"
      ]
     },
     "execution_count": 14,
     "metadata": {},
     "output_type": "execute_result"
    }
   ],
   "source": [
    "data = pd.read_csv('diamonds.csv', index_col = False)\n",
    "# data.drop(data.columns[0], axis=1, inplace = True)\n",
    "data.head()"
   ]
  },
  {
   "cell_type": "code",
   "execution_count": 152,
   "metadata": {},
   "outputs": [],
   "source": [
    "data.to_csv('diamonds_normalized.csv',index_label=False)"
   ]
  },
  {
   "cell_type": "code",
   "execution_count": 18,
   "metadata": {},
   "outputs": [
    {
     "data": {
      "text/plain": [
       "['carat', 'cut', 'color', 'clarity', 'depth', 'table', 'z', 'y', 'x']"
      ]
     },
     "execution_count": 18,
     "metadata": {},
     "output_type": "execute_result"
    }
   ],
   "source": [
    "# change y index to last column\n",
    "column = list(data.columns)\n",
    "p = column[6]\n",
    "z = column[-1]\n",
    "column[6] = z\n",
    "column[-1] = p\n",
    "data = data.reindex(columns = column)\n",
    "column"
   ]
  },
  {
   "cell_type": "code",
   "execution_count": 142,
   "metadata": {},
   "outputs": [
    {
     "data": {
      "text/html": [
       "<div>\n",
       "<style scoped>\n",
       "    .dataframe tbody tr th:only-of-type {\n",
       "        vertical-align: middle;\n",
       "    }\n",
       "\n",
       "    .dataframe tbody tr th {\n",
       "        vertical-align: top;\n",
       "    }\n",
       "\n",
       "    .dataframe thead th {\n",
       "        text-align: right;\n",
       "    }\n",
       "</style>\n",
       "<table border=\"1\" class=\"dataframe\">\n",
       "  <thead>\n",
       "    <tr style=\"text-align: right;\">\n",
       "      <th></th>\n",
       "      <th>carat</th>\n",
       "      <th>cut</th>\n",
       "      <th>color</th>\n",
       "      <th>clarity</th>\n",
       "      <th>depth</th>\n",
       "      <th>table</th>\n",
       "      <th>z</th>\n",
       "      <th>x</th>\n",
       "      <th>y</th>\n",
       "      <th>price</th>\n",
       "    </tr>\n",
       "  </thead>\n",
       "  <tbody>\n",
       "    <tr>\n",
       "      <th>0</th>\n",
       "      <td>0</td>\n",
       "      <td>0</td>\n",
       "      <td>0</td>\n",
       "      <td>0.23</td>\n",
       "      <td>Ideal</td>\n",
       "      <td>E</td>\n",
       "      <td>SI2</td>\n",
       "      <td>3.95</td>\n",
       "      <td>55.0</td>\n",
       "      <td>326</td>\n",
       "    </tr>\n",
       "    <tr>\n",
       "      <th>1</th>\n",
       "      <td>1</td>\n",
       "      <td>1</td>\n",
       "      <td>1</td>\n",
       "      <td>0.21</td>\n",
       "      <td>Premium</td>\n",
       "      <td>E</td>\n",
       "      <td>SI1</td>\n",
       "      <td>3.89</td>\n",
       "      <td>61.0</td>\n",
       "      <td>326</td>\n",
       "    </tr>\n",
       "    <tr>\n",
       "      <th>2</th>\n",
       "      <td>2</td>\n",
       "      <td>2</td>\n",
       "      <td>2</td>\n",
       "      <td>0.23</td>\n",
       "      <td>Good</td>\n",
       "      <td>E</td>\n",
       "      <td>VS1</td>\n",
       "      <td>4.05</td>\n",
       "      <td>65.0</td>\n",
       "      <td>327</td>\n",
       "    </tr>\n",
       "    <tr>\n",
       "      <th>3</th>\n",
       "      <td>3</td>\n",
       "      <td>3</td>\n",
       "      <td>3</td>\n",
       "      <td>0.29</td>\n",
       "      <td>Premium</td>\n",
       "      <td>I</td>\n",
       "      <td>VS2</td>\n",
       "      <td>4.20</td>\n",
       "      <td>58.0</td>\n",
       "      <td>334</td>\n",
       "    </tr>\n",
       "    <tr>\n",
       "      <th>4</th>\n",
       "      <td>4</td>\n",
       "      <td>4</td>\n",
       "      <td>4</td>\n",
       "      <td>0.31</td>\n",
       "      <td>Good</td>\n",
       "      <td>J</td>\n",
       "      <td>SI2</td>\n",
       "      <td>4.34</td>\n",
       "      <td>58.0</td>\n",
       "      <td>335</td>\n",
       "    </tr>\n",
       "  </tbody>\n",
       "</table>\n",
       "</div>"
      ],
      "text/plain": [
       "   carat  cut  color  clarity    depth table    z     x     y  price\n",
       "0      0    0      0     0.23    Ideal     E  SI2  3.95  55.0    326\n",
       "1      1    1      1     0.21  Premium     E  SI1  3.89  61.0    326\n",
       "2      2    2      2     0.23     Good     E  VS1  4.05  65.0    327\n",
       "3      3    3      3     0.29  Premium     I  VS2  4.20  58.0    334\n",
       "4      4    4      4     0.31     Good     J  SI2  4.34  58.0    335"
      ]
     },
     "execution_count": 142,
     "metadata": {},
     "output_type": "execute_result"
    }
   ],
   "source": [
    "data.head()"
   ]
  },
  {
   "cell_type": "markdown",
   "metadata": {},
   "source": [
    "## Text to Int"
   ]
  },
  {
   "cell_type": "code",
   "execution_count": 137,
   "metadata": {},
   "outputs": [],
   "source": [
    "def txt2int(data):  \n",
    "    dict_txt2no = {v:k for k,v in enumerate(data)}\n",
    "    dict_txt2no.keys()\n",
    "    dict_txt2int = {v:k for k, v in enumerate(dict_txt2no.keys())}\n",
    "    dict_txt2int\n",
    "    return dict_txt2no, dict_txt2int"
   ]
  },
  {
   "cell_type": "code",
   "execution_count": 139,
   "metadata": {},
   "outputs": [
    {
     "data": {
      "text/plain": [
       "{'Fair': 4, 'Good': 2, 'Ideal': 0, 'Premium': 1, 'Very Good': 3}"
      ]
     },
     "execution_count": 139,
     "metadata": {},
     "output_type": "execute_result"
    }
   ],
   "source": [
    "_, depth_txt2int = txt2int(data['depth'])\n",
    "depth_txt2int"
   ]
  },
  {
   "cell_type": "code",
   "execution_count": 140,
   "metadata": {},
   "outputs": [
    {
     "data": {
      "text/plain": [
       "{'D': 6, 'E': 0, 'F': 4, 'G': 5, 'H': 3, 'I': 1, 'J': 2}"
      ]
     },
     "execution_count": 140,
     "metadata": {},
     "output_type": "execute_result"
    }
   ],
   "source": [
    "_, table_txt2int = txt2int(data['table'])\n",
    "table_txt2int"
   ]
  },
  {
   "cell_type": "code",
   "execution_count": 145,
   "metadata": {},
   "outputs": [
    {
     "data": {
      "text/plain": [
       "{'I1': 6,\n",
       " 'IF': 7,\n",
       " 'SI1': 1,\n",
       " 'SI2': 0,\n",
       " 'VS1': 2,\n",
       " 'VS2': 3,\n",
       " 'VVS1': 5,\n",
       " 'VVS2': 4}"
      ]
     },
     "execution_count": 145,
     "metadata": {},
     "output_type": "execute_result"
    }
   ],
   "source": [
    "_,z_txt2int = txt2int(data['z'])\n",
    "z_txt2int"
   ]
  },
  {
   "cell_type": "code",
   "execution_count": 148,
   "metadata": {},
   "outputs": [],
   "source": [
    "data['depth'] = data['depth'].replace(depth_txt2int) \n",
    "data['table'] = data['table'].replace(table_txt2int)\n",
    "data['z'] = data['z'].replace(z_txt2int)"
   ]
  },
  {
   "cell_type": "code",
   "execution_count": 149,
   "metadata": {},
   "outputs": [
    {
     "data": {
      "text/html": [
       "<div>\n",
       "<style scoped>\n",
       "    .dataframe tbody tr th:only-of-type {\n",
       "        vertical-align: middle;\n",
       "    }\n",
       "\n",
       "    .dataframe tbody tr th {\n",
       "        vertical-align: top;\n",
       "    }\n",
       "\n",
       "    .dataframe thead th {\n",
       "        text-align: right;\n",
       "    }\n",
       "</style>\n",
       "<table border=\"1\" class=\"dataframe\">\n",
       "  <thead>\n",
       "    <tr style=\"text-align: right;\">\n",
       "      <th></th>\n",
       "      <th>carat</th>\n",
       "      <th>cut</th>\n",
       "      <th>color</th>\n",
       "      <th>clarity</th>\n",
       "      <th>depth</th>\n",
       "      <th>table</th>\n",
       "      <th>z</th>\n",
       "      <th>x</th>\n",
       "      <th>y</th>\n",
       "      <th>price</th>\n",
       "    </tr>\n",
       "  </thead>\n",
       "  <tbody>\n",
       "    <tr>\n",
       "      <th>0</th>\n",
       "      <td>0</td>\n",
       "      <td>0</td>\n",
       "      <td>0</td>\n",
       "      <td>0.23</td>\n",
       "      <td>0</td>\n",
       "      <td>0</td>\n",
       "      <td>0</td>\n",
       "      <td>3.95</td>\n",
       "      <td>55.0</td>\n",
       "      <td>326</td>\n",
       "    </tr>\n",
       "    <tr>\n",
       "      <th>1</th>\n",
       "      <td>1</td>\n",
       "      <td>1</td>\n",
       "      <td>1</td>\n",
       "      <td>0.21</td>\n",
       "      <td>1</td>\n",
       "      <td>0</td>\n",
       "      <td>1</td>\n",
       "      <td>3.89</td>\n",
       "      <td>61.0</td>\n",
       "      <td>326</td>\n",
       "    </tr>\n",
       "    <tr>\n",
       "      <th>2</th>\n",
       "      <td>2</td>\n",
       "      <td>2</td>\n",
       "      <td>2</td>\n",
       "      <td>0.23</td>\n",
       "      <td>2</td>\n",
       "      <td>0</td>\n",
       "      <td>2</td>\n",
       "      <td>4.05</td>\n",
       "      <td>65.0</td>\n",
       "      <td>327</td>\n",
       "    </tr>\n",
       "    <tr>\n",
       "      <th>3</th>\n",
       "      <td>3</td>\n",
       "      <td>3</td>\n",
       "      <td>3</td>\n",
       "      <td>0.29</td>\n",
       "      <td>1</td>\n",
       "      <td>1</td>\n",
       "      <td>3</td>\n",
       "      <td>4.20</td>\n",
       "      <td>58.0</td>\n",
       "      <td>334</td>\n",
       "    </tr>\n",
       "    <tr>\n",
       "      <th>4</th>\n",
       "      <td>4</td>\n",
       "      <td>4</td>\n",
       "      <td>4</td>\n",
       "      <td>0.31</td>\n",
       "      <td>2</td>\n",
       "      <td>2</td>\n",
       "      <td>0</td>\n",
       "      <td>4.34</td>\n",
       "      <td>58.0</td>\n",
       "      <td>335</td>\n",
       "    </tr>\n",
       "  </tbody>\n",
       "</table>\n",
       "</div>"
      ],
      "text/plain": [
       "   carat  cut  color  clarity  depth  table  z     x     y  price\n",
       "0      0    0      0     0.23      0      0  0  3.95  55.0    326\n",
       "1      1    1      1     0.21      1      0  1  3.89  61.0    326\n",
       "2      2    2      2     0.23      2      0  2  4.05  65.0    327\n",
       "3      3    3      3     0.29      1      1  3  4.20  58.0    334\n",
       "4      4    4      4     0.31      2      2  0  4.34  58.0    335"
      ]
     },
     "execution_count": 149,
     "metadata": {},
     "output_type": "execute_result"
    }
   ],
   "source": [
    "data.head()"
   ]
  },
  {
   "cell_type": "code",
   "execution_count": 158,
   "metadata": {},
   "outputs": [
    {
     "data": {
      "text/html": [
       "<div>\n",
       "<style scoped>\n",
       "    .dataframe tbody tr th:only-of-type {\n",
       "        vertical-align: middle;\n",
       "    }\n",
       "\n",
       "    .dataframe tbody tr th {\n",
       "        vertical-align: top;\n",
       "    }\n",
       "\n",
       "    .dataframe thead th {\n",
       "        text-align: right;\n",
       "    }\n",
       "</style>\n",
       "<table border=\"1\" class=\"dataframe\">\n",
       "  <thead>\n",
       "    <tr style=\"text-align: right;\">\n",
       "      <th></th>\n",
       "      <th>carat</th>\n",
       "      <th>cut</th>\n",
       "      <th>color</th>\n",
       "      <th>clarity</th>\n",
       "      <th>depth</th>\n",
       "      <th>table</th>\n",
       "      <th>z</th>\n",
       "      <th>x</th>\n",
       "      <th>y</th>\n",
       "      <th>price</th>\n",
       "    </tr>\n",
       "  </thead>\n",
       "  <tbody>\n",
       "    <tr>\n",
       "      <th>count</th>\n",
       "      <td>53940.000000</td>\n",
       "      <td>53940.000000</td>\n",
       "      <td>53940.000000</td>\n",
       "      <td>53940.000000</td>\n",
       "      <td>53940.000000</td>\n",
       "      <td>53940.000000</td>\n",
       "      <td>53940.000000</td>\n",
       "      <td>53940.000000</td>\n",
       "      <td>53940.000000</td>\n",
       "      <td>53940.000000</td>\n",
       "    </tr>\n",
       "    <tr>\n",
       "      <th>mean</th>\n",
       "      <td>26969.500000</td>\n",
       "      <td>26969.500000</td>\n",
       "      <td>26969.500000</td>\n",
       "      <td>26969.500000</td>\n",
       "      <td>0.797940</td>\n",
       "      <td>1.228940</td>\n",
       "      <td>3.174416</td>\n",
       "      <td>2.256136</td>\n",
       "      <td>5.731157</td>\n",
       "      <td>57.457184</td>\n",
       "    </tr>\n",
       "    <tr>\n",
       "      <th>std</th>\n",
       "      <td>15571.281097</td>\n",
       "      <td>15571.281097</td>\n",
       "      <td>15571.281097</td>\n",
       "      <td>15571.281097</td>\n",
       "      <td>0.474011</td>\n",
       "      <td>1.265976</td>\n",
       "      <td>2.050156</td>\n",
       "      <td>1.766539</td>\n",
       "      <td>1.121761</td>\n",
       "      <td>2.234491</td>\n",
       "    </tr>\n",
       "    <tr>\n",
       "      <th>min</th>\n",
       "      <td>0.000000</td>\n",
       "      <td>0.000000</td>\n",
       "      <td>0.000000</td>\n",
       "      <td>0.000000</td>\n",
       "      <td>0.200000</td>\n",
       "      <td>0.000000</td>\n",
       "      <td>0.000000</td>\n",
       "      <td>0.000000</td>\n",
       "      <td>0.000000</td>\n",
       "      <td>43.000000</td>\n",
       "    </tr>\n",
       "    <tr>\n",
       "      <th>25%</th>\n",
       "      <td>13484.750000</td>\n",
       "      <td>13484.750000</td>\n",
       "      <td>13484.750000</td>\n",
       "      <td>13484.750000</td>\n",
       "      <td>0.400000</td>\n",
       "      <td>0.000000</td>\n",
       "      <td>1.000000</td>\n",
       "      <td>1.000000</td>\n",
       "      <td>4.710000</td>\n",
       "      <td>56.000000</td>\n",
       "    </tr>\n",
       "    <tr>\n",
       "      <th>50%</th>\n",
       "      <td>26969.500000</td>\n",
       "      <td>26969.500000</td>\n",
       "      <td>26969.500000</td>\n",
       "      <td>26969.500000</td>\n",
       "      <td>0.700000</td>\n",
       "      <td>1.000000</td>\n",
       "      <td>4.000000</td>\n",
       "      <td>2.000000</td>\n",
       "      <td>5.700000</td>\n",
       "      <td>57.000000</td>\n",
       "    </tr>\n",
       "    <tr>\n",
       "      <th>75%</th>\n",
       "      <td>40454.250000</td>\n",
       "      <td>40454.250000</td>\n",
       "      <td>40454.250000</td>\n",
       "      <td>40454.250000</td>\n",
       "      <td>1.040000</td>\n",
       "      <td>3.000000</td>\n",
       "      <td>5.000000</td>\n",
       "      <td>3.000000</td>\n",
       "      <td>6.540000</td>\n",
       "      <td>59.000000</td>\n",
       "    </tr>\n",
       "    <tr>\n",
       "      <th>max</th>\n",
       "      <td>53939.000000</td>\n",
       "      <td>53939.000000</td>\n",
       "      <td>53939.000000</td>\n",
       "      <td>53939.000000</td>\n",
       "      <td>5.010000</td>\n",
       "      <td>4.000000</td>\n",
       "      <td>6.000000</td>\n",
       "      <td>7.000000</td>\n",
       "      <td>10.740000</td>\n",
       "      <td>95.000000</td>\n",
       "    </tr>\n",
       "  </tbody>\n",
       "</table>\n",
       "</div>"
      ],
      "text/plain": [
       "              carat           cut         color       clarity         depth  \\\n",
       "count  53940.000000  53940.000000  53940.000000  53940.000000  53940.000000   \n",
       "mean   26969.500000  26969.500000  26969.500000  26969.500000      0.797940   \n",
       "std    15571.281097  15571.281097  15571.281097  15571.281097      0.474011   \n",
       "min        0.000000      0.000000      0.000000      0.000000      0.200000   \n",
       "25%    13484.750000  13484.750000  13484.750000  13484.750000      0.400000   \n",
       "50%    26969.500000  26969.500000  26969.500000  26969.500000      0.700000   \n",
       "75%    40454.250000  40454.250000  40454.250000  40454.250000      1.040000   \n",
       "max    53939.000000  53939.000000  53939.000000  53939.000000      5.010000   \n",
       "\n",
       "              table             z             x             y         price  \n",
       "count  53940.000000  53940.000000  53940.000000  53940.000000  53940.000000  \n",
       "mean       1.228940      3.174416      2.256136      5.731157     57.457184  \n",
       "std        1.265976      2.050156      1.766539      1.121761      2.234491  \n",
       "min        0.000000      0.000000      0.000000      0.000000     43.000000  \n",
       "25%        0.000000      1.000000      1.000000      4.710000     56.000000  \n",
       "50%        1.000000      4.000000      2.000000      5.700000     57.000000  \n",
       "75%        3.000000      5.000000      3.000000      6.540000     59.000000  \n",
       "max        4.000000      6.000000      7.000000     10.740000     95.000000  "
      ]
     },
     "execution_count": 158,
     "metadata": {},
     "output_type": "execute_result"
    }
   ],
   "source": [
    "data.describe()"
   ]
  },
  {
   "cell_type": "markdown",
   "metadata": {},
   "source": [
    "## Transform Feature Scaling"
   ]
  },
  {
   "cell_type": "code",
   "execution_count": 16,
   "metadata": {},
   "outputs": [],
   "source": [
    "price = data['price']"
   ]
  },
  {
   "cell_type": "code",
   "execution_count": 17,
   "metadata": {},
   "outputs": [],
   "source": [
    "data.drop(columns=['price'], axis=1,inplace=True)"
   ]
  },
  {
   "cell_type": "code",
   "execution_count": 7,
   "metadata": {},
   "outputs": [
    {
     "data": {
      "text/html": [
       "<div>\n",
       "<style scoped>\n",
       "    .dataframe tbody tr th:only-of-type {\n",
       "        vertical-align: middle;\n",
       "    }\n",
       "\n",
       "    .dataframe tbody tr th {\n",
       "        vertical-align: top;\n",
       "    }\n",
       "\n",
       "    .dataframe thead th {\n",
       "        text-align: right;\n",
       "    }\n",
       "</style>\n",
       "<table border=\"1\" class=\"dataframe\">\n",
       "  <thead>\n",
       "    <tr style=\"text-align: right;\">\n",
       "      <th></th>\n",
       "      <th>carat</th>\n",
       "      <th>cut</th>\n",
       "      <th>color</th>\n",
       "      <th>clarity</th>\n",
       "      <th>depth</th>\n",
       "      <th>table</th>\n",
       "      <th>z</th>\n",
       "      <th>x</th>\n",
       "      <th>y</th>\n",
       "    </tr>\n",
       "  </thead>\n",
       "  <tbody>\n",
       "    <tr>\n",
       "      <th>0</th>\n",
       "      <td>0</td>\n",
       "      <td>0</td>\n",
       "      <td>0</td>\n",
       "      <td>0</td>\n",
       "      <td>0</td>\n",
       "      <td>0.23</td>\n",
       "      <td>0</td>\n",
       "      <td>0</td>\n",
       "      <td>0</td>\n",
       "    </tr>\n",
       "    <tr>\n",
       "      <th>1</th>\n",
       "      <td>1</td>\n",
       "      <td>1</td>\n",
       "      <td>1</td>\n",
       "      <td>1</td>\n",
       "      <td>1</td>\n",
       "      <td>0.21</td>\n",
       "      <td>1</td>\n",
       "      <td>0</td>\n",
       "      <td>1</td>\n",
       "    </tr>\n",
       "    <tr>\n",
       "      <th>2</th>\n",
       "      <td>2</td>\n",
       "      <td>2</td>\n",
       "      <td>2</td>\n",
       "      <td>2</td>\n",
       "      <td>2</td>\n",
       "      <td>0.23</td>\n",
       "      <td>2</td>\n",
       "      <td>0</td>\n",
       "      <td>2</td>\n",
       "    </tr>\n",
       "    <tr>\n",
       "      <th>3</th>\n",
       "      <td>3</td>\n",
       "      <td>3</td>\n",
       "      <td>3</td>\n",
       "      <td>3</td>\n",
       "      <td>3</td>\n",
       "      <td>0.29</td>\n",
       "      <td>1</td>\n",
       "      <td>1</td>\n",
       "      <td>3</td>\n",
       "    </tr>\n",
       "    <tr>\n",
       "      <th>4</th>\n",
       "      <td>4</td>\n",
       "      <td>4</td>\n",
       "      <td>4</td>\n",
       "      <td>4</td>\n",
       "      <td>4</td>\n",
       "      <td>0.31</td>\n",
       "      <td>2</td>\n",
       "      <td>2</td>\n",
       "      <td>0</td>\n",
       "    </tr>\n",
       "  </tbody>\n",
       "</table>\n",
       "</div>"
      ],
      "text/plain": [
       "   carat  cut  color  clarity  depth  table  z  x  y\n",
       "0      0    0      0        0      0   0.23  0  0  0\n",
       "1      1    1      1        1      1   0.21  1  0  1\n",
       "2      2    2      2        2      2   0.23  2  0  2\n",
       "3      3    3      3        3      3   0.29  1  1  3\n",
       "4      4    4      4        4      4   0.31  2  2  0"
      ]
     },
     "execution_count": 7,
     "metadata": {},
     "output_type": "execute_result"
    }
   ],
   "source": [
    "data.head()"
   ]
  },
  {
   "cell_type": "code",
   "execution_count": 190,
   "metadata": {},
   "outputs": [
    {
     "data": {
      "text/plain": [
       "['carat', 'cut', 'color', 'clarity', 'depth', 'table', 'price', 'x']"
      ]
     },
     "execution_count": 190,
     "metadata": {},
     "output_type": "execute_result"
    }
   ],
   "source": [
    "column[:8]"
   ]
  },
  {
   "cell_type": "code",
   "execution_count": 19,
   "metadata": {},
   "outputs": [],
   "source": [
    "scaler = preprocessing.StandardScaler()"
   ]
  },
  {
   "cell_type": "code",
   "execution_count": 20,
   "metadata": {},
   "outputs": [
    {
     "name": "stderr",
     "output_type": "stream",
     "text": [
      "/media/prince_canuma/DEA8684CA86824ED/PycharmProjects/PythonStuff/venv/lib/python3.6/site-packages/sklearn/preprocessing/data.py:625: DataConversionWarning: Data with input dtype int64, float64 were all converted to float64 by StandardScaler.\n",
      "  return self.partial_fit(X, y)\n",
      "/media/prince_canuma/DEA8684CA86824ED/PycharmProjects/PythonStuff/venv/lib/python3.6/site-packages/sklearn/base.py:462: DataConversionWarning: Data with input dtype int64, float64 were all converted to float64 by StandardScaler.\n",
      "  return self.fit(X, **fit_params).transform(X)\n"
     ]
    },
    {
     "data": {
      "text/html": [
       "<div>\n",
       "<style scoped>\n",
       "    .dataframe tbody tr th:only-of-type {\n",
       "        vertical-align: middle;\n",
       "    }\n",
       "\n",
       "    .dataframe tbody tr th {\n",
       "        vertical-align: top;\n",
       "    }\n",
       "\n",
       "    .dataframe thead th {\n",
       "        text-align: right;\n",
       "    }\n",
       "</style>\n",
       "<table border=\"1\" class=\"dataframe\">\n",
       "  <thead>\n",
       "    <tr style=\"text-align: right;\">\n",
       "      <th></th>\n",
       "      <th>carat</th>\n",
       "      <th>cut</th>\n",
       "      <th>color</th>\n",
       "      <th>clarity</th>\n",
       "      <th>depth</th>\n",
       "      <th>table</th>\n",
       "      <th>z</th>\n",
       "      <th>y</th>\n",
       "      <th>x</th>\n",
       "    </tr>\n",
       "  </thead>\n",
       "  <tbody>\n",
       "    <tr>\n",
       "      <th>0</th>\n",
       "      <td>-1.732019</td>\n",
       "      <td>-1.732019</td>\n",
       "      <td>-1.732019</td>\n",
       "      <td>-1.732019</td>\n",
       "      <td>-1.198168</td>\n",
       "      <td>-0.970753</td>\n",
       "      <td>-1.548392</td>\n",
       "      <td>-1.587837</td>\n",
       "      <td>-1.277163</td>\n",
       "    </tr>\n",
       "    <tr>\n",
       "      <th>1</th>\n",
       "      <td>-1.731954</td>\n",
       "      <td>-1.731954</td>\n",
       "      <td>-1.731954</td>\n",
       "      <td>-1.731954</td>\n",
       "      <td>-1.240361</td>\n",
       "      <td>-0.180842</td>\n",
       "      <td>-1.548392</td>\n",
       "      <td>-1.641325</td>\n",
       "      <td>-0.711079</td>\n",
       "    </tr>\n",
       "    <tr>\n",
       "      <th>2</th>\n",
       "      <td>-1.731890</td>\n",
       "      <td>-1.731890</td>\n",
       "      <td>-1.731890</td>\n",
       "      <td>-1.731890</td>\n",
       "      <td>-1.198168</td>\n",
       "      <td>0.609070</td>\n",
       "      <td>-1.548392</td>\n",
       "      <td>-1.498691</td>\n",
       "      <td>-0.144995</td>\n",
       "    </tr>\n",
       "    <tr>\n",
       "      <th>3</th>\n",
       "      <td>-1.731826</td>\n",
       "      <td>-1.731826</td>\n",
       "      <td>-1.731826</td>\n",
       "      <td>-1.731826</td>\n",
       "      <td>-1.071587</td>\n",
       "      <td>-0.180842</td>\n",
       "      <td>-1.060620</td>\n",
       "      <td>-1.364971</td>\n",
       "      <td>0.421089</td>\n",
       "    </tr>\n",
       "    <tr>\n",
       "      <th>4</th>\n",
       "      <td>-1.731762</td>\n",
       "      <td>-1.731762</td>\n",
       "      <td>-1.731762</td>\n",
       "      <td>-1.731762</td>\n",
       "      <td>-1.029394</td>\n",
       "      <td>0.609070</td>\n",
       "      <td>-0.572848</td>\n",
       "      <td>-1.240167</td>\n",
       "      <td>-1.277163</td>\n",
       "    </tr>\n",
       "  </tbody>\n",
       "</table>\n",
       "</div>"
      ],
      "text/plain": [
       "      carat       cut     color   clarity     depth     table         z  \\\n",
       "0 -1.732019 -1.732019 -1.732019 -1.732019 -1.198168 -0.970753 -1.548392   \n",
       "1 -1.731954 -1.731954 -1.731954 -1.731954 -1.240361 -0.180842 -1.548392   \n",
       "2 -1.731890 -1.731890 -1.731890 -1.731890 -1.198168  0.609070 -1.548392   \n",
       "3 -1.731826 -1.731826 -1.731826 -1.731826 -1.071587 -0.180842 -1.060620   \n",
       "4 -1.731762 -1.731762 -1.731762 -1.731762 -1.029394  0.609070 -0.572848   \n",
       "\n",
       "          y         x  \n",
       "0 -1.587837 -1.277163  \n",
       "1 -1.641325 -0.711079  \n",
       "2 -1.498691 -0.144995  \n",
       "3 -1.364971  0.421089  \n",
       "4 -1.240167 -1.277163  "
      ]
     },
     "execution_count": 20,
     "metadata": {},
     "output_type": "execute_result"
    }
   ],
   "source": [
    "scaled_data = scaler.fit_transform(data)\n",
    "scaled_data = pd.DataFrame(scaled_data, columns = column)\n",
    "scaled_data.head()"
   ]
  },
  {
   "cell_type": "code",
   "execution_count": 21,
   "metadata": {},
   "outputs": [],
   "source": [
    "scaled_data['price'] = price"
   ]
  },
  {
   "cell_type": "code",
   "execution_count": 22,
   "metadata": {},
   "outputs": [
    {
     "data": {
      "text/html": [
       "<div>\n",
       "<style scoped>\n",
       "    .dataframe tbody tr th:only-of-type {\n",
       "        vertical-align: middle;\n",
       "    }\n",
       "\n",
       "    .dataframe tbody tr th {\n",
       "        vertical-align: top;\n",
       "    }\n",
       "\n",
       "    .dataframe thead th {\n",
       "        text-align: right;\n",
       "    }\n",
       "</style>\n",
       "<table border=\"1\" class=\"dataframe\">\n",
       "  <thead>\n",
       "    <tr style=\"text-align: right;\">\n",
       "      <th></th>\n",
       "      <th>carat</th>\n",
       "      <th>cut</th>\n",
       "      <th>color</th>\n",
       "      <th>clarity</th>\n",
       "      <th>depth</th>\n",
       "      <th>table</th>\n",
       "      <th>z</th>\n",
       "      <th>y</th>\n",
       "      <th>x</th>\n",
       "      <th>price</th>\n",
       "    </tr>\n",
       "  </thead>\n",
       "  <tbody>\n",
       "    <tr>\n",
       "      <th>0</th>\n",
       "      <td>-1.732019</td>\n",
       "      <td>-1.732019</td>\n",
       "      <td>-1.732019</td>\n",
       "      <td>-1.732019</td>\n",
       "      <td>-1.198168</td>\n",
       "      <td>-0.970753</td>\n",
       "      <td>-1.548392</td>\n",
       "      <td>-1.587837</td>\n",
       "      <td>-1.277163</td>\n",
       "      <td>55.0</td>\n",
       "    </tr>\n",
       "    <tr>\n",
       "      <th>1</th>\n",
       "      <td>-1.731954</td>\n",
       "      <td>-1.731954</td>\n",
       "      <td>-1.731954</td>\n",
       "      <td>-1.731954</td>\n",
       "      <td>-1.240361</td>\n",
       "      <td>-0.180842</td>\n",
       "      <td>-1.548392</td>\n",
       "      <td>-1.641325</td>\n",
       "      <td>-0.711079</td>\n",
       "      <td>61.0</td>\n",
       "    </tr>\n",
       "    <tr>\n",
       "      <th>2</th>\n",
       "      <td>-1.731890</td>\n",
       "      <td>-1.731890</td>\n",
       "      <td>-1.731890</td>\n",
       "      <td>-1.731890</td>\n",
       "      <td>-1.198168</td>\n",
       "      <td>0.609070</td>\n",
       "      <td>-1.548392</td>\n",
       "      <td>-1.498691</td>\n",
       "      <td>-0.144995</td>\n",
       "      <td>65.0</td>\n",
       "    </tr>\n",
       "    <tr>\n",
       "      <th>3</th>\n",
       "      <td>-1.731826</td>\n",
       "      <td>-1.731826</td>\n",
       "      <td>-1.731826</td>\n",
       "      <td>-1.731826</td>\n",
       "      <td>-1.071587</td>\n",
       "      <td>-0.180842</td>\n",
       "      <td>-1.060620</td>\n",
       "      <td>-1.364971</td>\n",
       "      <td>0.421089</td>\n",
       "      <td>58.0</td>\n",
       "    </tr>\n",
       "    <tr>\n",
       "      <th>4</th>\n",
       "      <td>-1.731762</td>\n",
       "      <td>-1.731762</td>\n",
       "      <td>-1.731762</td>\n",
       "      <td>-1.731762</td>\n",
       "      <td>-1.029394</td>\n",
       "      <td>0.609070</td>\n",
       "      <td>-0.572848</td>\n",
       "      <td>-1.240167</td>\n",
       "      <td>-1.277163</td>\n",
       "      <td>58.0</td>\n",
       "    </tr>\n",
       "  </tbody>\n",
       "</table>\n",
       "</div>"
      ],
      "text/plain": [
       "      carat       cut     color   clarity     depth     table         z  \\\n",
       "0 -1.732019 -1.732019 -1.732019 -1.732019 -1.198168 -0.970753 -1.548392   \n",
       "1 -1.731954 -1.731954 -1.731954 -1.731954 -1.240361 -0.180842 -1.548392   \n",
       "2 -1.731890 -1.731890 -1.731890 -1.731890 -1.198168  0.609070 -1.548392   \n",
       "3 -1.731826 -1.731826 -1.731826 -1.731826 -1.071587 -0.180842 -1.060620   \n",
       "4 -1.731762 -1.731762 -1.731762 -1.731762 -1.029394  0.609070 -0.572848   \n",
       "\n",
       "          y         x  price  \n",
       "0 -1.587837 -1.277163   55.0  \n",
       "1 -1.641325 -0.711079   61.0  \n",
       "2 -1.498691 -0.144995   65.0  \n",
       "3 -1.364971  0.421089   58.0  \n",
       "4 -1.240167 -1.277163   58.0  "
      ]
     },
     "execution_count": 22,
     "metadata": {},
     "output_type": "execute_result"
    }
   ],
   "source": [
    "scaled_data.head()"
   ]
  },
  {
   "cell_type": "markdown",
   "metadata": {},
   "source": [
    "## Plot data\n",
    " -  Scatter plot\n",
    " -  Correletion matrix"
   ]
  },
  {
   "cell_type": "code",
   "execution_count": 27,
   "metadata": {},
   "outputs": [],
   "source": [
    "from pandas.plotting import scatter_matrix\n",
    "import matplotlib.pyplot as plt\n",
    "import seaborn as sns"
   ]
  },
  {
   "cell_type": "code",
   "execution_count": 208,
   "metadata": {},
   "outputs": [],
   "source": [
    "def df_scatter_plot(df):\n",
    "        scatter_matrix(df.loc[:, 'carat':'z'], diagonal='kde')\n",
    "        plt.tight_layout()\n",
    "        plt.show()"
   ]
  },
  {
   "cell_type": "code",
   "execution_count": 209,
   "metadata": {},
   "outputs": [
    {
     "data": {
      "image/png": "[encoded data removed]",
      "text/plain": [
       "<Figure size 842.4x595.44 with 36 Axes>"
      ]
     },
     "metadata": {},
     "output_type": "display_data"
    }
   ],
   "source": [
    "df_scatter_plot(scaled_data)"
   ]
  },
  {
   "cell_type": "code",
   "execution_count": 204,
   "metadata": {},
   "outputs": [],
   "source": [
    "def class_distribution(df):\n",
    "        sns.set(rc={'figure.figsize': (11.7, 8.27)})\n",
    "        sns.distplot(df['price'], bins=2)\n",
    "        plt.title('Class Distribution')\n",
    "        plt.show()"
   ]
  },
  {
   "cell_type": "code",
   "execution_count": 205,
   "metadata": {},
   "outputs": [
    {
     "data": {
      "image/png": "[encoded data removed]",
      "text/plain": [
       "<Figure size 842.4x595.44 with 1 Axes>"
      ]
     },
     "metadata": {},
     "output_type": "display_data"
    }
   ],
   "source": [
    "class_distribution(scaled_data)"
   ]
  },
  {
   "cell_type": "code",
   "execution_count": 25,
   "metadata": {},
   "outputs": [],
   "source": [
    "def correlation_matrix(df):\n",
    "        corr_matrix = df.corr().round(2)\n",
    "        sns.heatmap(data=corr_matrix, annot=True)\n",
    "        plt.suptitle('Correlation Matrix')\n",
    "        plt.show()"
   ]
  },
  {
   "cell_type": "code",
   "execution_count": 200,
   "metadata": {},
   "outputs": [
    {
     "data": {
      "image/png": "[encoded data removed]",
      "text/plain": [
       "<Figure size 432x288 with 2 Axes>"
      ]
     },
     "metadata": {},
     "output_type": "display_data"
    }
   ],
   "source": [
    "correlation_matrix(scaled_data)"
   ]
  },
  {
   "cell_type": "markdown",
   "metadata": {},
   "source": [
    "# Feature Selection"
   ]
  },
  {
   "cell_type": "code",
   "execution_count": 23,
   "metadata": {},
   "outputs": [],
   "source": [
    "scaled_data.drop(columns=['cut','color','clarity'], axis=1,inplace=True)"
   ]
  },
  {
   "cell_type": "code",
   "execution_count": 28,
   "metadata": {},
   "outputs": [
    {
     "data": {
      "image/png": "[encoded data removed]",
      "text/plain": [
       "<Figure size 432x288 with 2 Axes>"
      ]
     },
     "metadata": {},
     "output_type": "display_data"
    }
   ],
   "source": [
    "correlation_matrix(scaled_data)"
   ]
  },
  {
   "cell_type": "code",
   "execution_count": 29,
   "metadata": {},
   "outputs": [],
   "source": [
    "scaled_data.drop(columns=['depth'], axis=1,inplace=True)"
   ]
  },
  {
   "cell_type": "code",
   "execution_count": 211,
   "metadata": {},
   "outputs": [
    {
     "data": {
      "image/png": "[encoded data removed]",
      "text/plain": [
       "<Figure size 842.4x595.44 with 2 Axes>"
      ]
     },
     "metadata": {},
     "output_type": "display_data"
    }
   ],
   "source": [
    "correlation_matrix(scaled_data)"
   ]
  },
  {
   "cell_type": "markdown",
   "metadata": {},
   "source": [
    "\n",
    "## Data Preparation for Training\n",
    "In this step we need to separate our label from other atributes because the model reads them separately .\n",
    "\n",
    " - Separating the Label into a 1D vector and tranforming it into 0s and 1s.\n",
    "\n",
    " - Separating the Features."
   ]
  },
  {
   "cell_type": "code",
   "execution_count": 30,
   "metadata": {},
   "outputs": [],
   "source": [
    "price = scaled_data['price']"
   ]
  },
  {
   "cell_type": "code",
   "execution_count": 31,
   "metadata": {},
   "outputs": [],
   "source": [
    "num_classes = len(price.unique())"
   ]
  },
  {
   "cell_type": "code",
   "execution_count": 32,
   "metadata": {},
   "outputs": [],
   "source": [
    "scaled_data.drop(columns=['price'], axis=1, inplace=True)"
   ]
  },
  {
   "cell_type": "code",
   "execution_count": 33,
   "metadata": {},
   "outputs": [],
   "source": [
    "class Dataset_(Dataset):\n",
    "    def __init__(self, x, y):\n",
    "        self.x = x\n",
    "        self.y = y\n",
    "        \n",
    "    def __len__(self): return len(self.x)\n",
    "    \n",
    "    def __getitem__(self,i): return torch.tensor(self.x.iloc[i]), torch.tensor(self.y[i])\n",
    "    "
   ]
  },
  {
   "cell_type": "code",
   "execution_count": 34,
   "metadata": {},
   "outputs": [],
   "source": [
    "train_data = Dataset_(scaled_data, price)"
   ]
  },
  {
   "cell_type": "code",
   "execution_count": 35,
   "metadata": {},
   "outputs": [],
   "source": [
    "num_train = len(train_data)\n",
    "indices = list(range(num_train))\n",
    "split = int(num_train * 0.7)\n",
    "test_split = int(len(indices[split:])*0.1)\n",
    "train_idx, val_idx = indices[:split], indices[split:]\n",
    "test_idx = val_idx[:test_split]\n",
    "del val_idx[:test_split]"
   ]
  },
  {
   "cell_type": "code",
   "execution_count": 36,
   "metadata": {},
   "outputs": [],
   "source": [
    "train_sampler = SubsetRandomSampler(train_idx)\n",
    "val_sampler = SubsetRandomSampler(val_idx)\n",
    "test_sampler = SubsetRandomSampler(test_idx)"
   ]
  },
  {
   "cell_type": "code",
   "execution_count": 37,
   "metadata": {},
   "outputs": [],
   "source": [
    "bs = 64 \n",
    "num_workers = 4\n",
    "train_loader = torch.utils.data.DataLoader(train_data, batch_size=bs,\n",
    "    sampler=train_sampler, num_workers=num_workers)\n",
    "val_loader = torch.utils.data.DataLoader(train_data, batch_size=bs, \n",
    "    sampler=val_sampler, num_workers=num_workers)\n",
    "test_loader = torch.utils.data.DataLoader(train_data, batch_size=bs,\n",
    "    sampler=test_sampler, num_workers=num_workers)"
   ]
  },
  {
   "cell_type": "code",
   "execution_count": 38,
   "metadata": {},
   "outputs": [],
   "source": [
    "inp_sz = 5"
   ]
  },
  {
   "cell_type": "code",
   "execution_count": 151,
   "metadata": {},
   "outputs": [],
   "source": [
    "class model(nn.Module):\n",
    "    def __init__(self,inp_sz,num_classes, dropout_rate = 0.2):\n",
    "        super(model, self).__init__()\n",
    "        self.l1 = nn.Linear(inp_sz, 64)\n",
    "#         self.l2 = nn.Linear(64,64)\n",
    "        self.out = nn.Linear(64, 1)\n",
    "        self.dropout = nn.Dropout(dropout_rate)\n",
    "        \n",
    "    def forward(self, x):\n",
    "        x = F.relu(self.l1(x))\n",
    "#         x = self.dropout(x)\n",
    "#         x = F.relu(self.l2(x))\n",
    "        return self.out(x)"
   ]
  },
  {
   "cell_type": "code",
   "execution_count": 152,
   "metadata": {},
   "outputs": [],
   "source": [
    "model = model(inp_sz, num_classes)"
   ]
  },
  {
   "cell_type": "code",
   "execution_count": 149,
   "metadata": {},
   "outputs": [],
   "source": [
    "del model"
   ]
  },
  {
   "cell_type": "code",
   "execution_count": 139,
   "metadata": {},
   "outputs": [
    {
     "data": {
      "text/plain": [
       "model(\n",
       "  (l1): Linear(in_features=5, out_features=64, bias=True)\n",
       "  (out): Linear(in_features=64, out_features=1, bias=True)\n",
       "  (dropout): Dropout(p=0.2)\n",
       ")"
      ]
     },
     "execution_count": 139,
     "metadata": {},
     "output_type": "execute_result"
    }
   ],
   "source": [
    "model"
   ]
  },
  {
   "cell_type": "code",
   "execution_count": 153,
   "metadata": {},
   "outputs": [],
   "source": [
    "optimizer = torch.optim.SGD(model.parameters(), lr = 1e-2)\n",
    "criterion = nn.MSELoss()\n"
   ]
  },
  {
   "cell_type": "code",
   "execution_count": 154,
   "metadata": {},
   "outputs": [
    {
     "name": "stdout",
     "output_type": "stream",
     "text": [
      "Epoch: 1 \tTraining Loss: 55.852834 \tValidation Loss: 2.851386\n",
      "Validation loss decreased (inf --> 2.851386).  Saving model ...\n",
      "Epoch: 2 \tTraining Loss: 12.476524 \tValidation Loss: 2.352415\n",
      "Validation loss decreased (2.851386 --> 2.352415).  Saving model ...\n",
      "Epoch: 3 \tTraining Loss: 7.006088 \tValidation Loss: 1.676368\n",
      "Validation loss decreased (2.352415 --> 1.676368).  Saving model ...\n",
      "Epoch: 4 \tTraining Loss: 6.264889 \tValidation Loss: 1.499869\n",
      "Validation loss decreased (1.676368 --> 1.499869).  Saving model ...\n",
      "Epoch: 5 \tTraining Loss: 6.160625 \tValidation Loss: 1.751921\n",
      "Epoch: 6 \tTraining Loss: 4.873829 \tValidation Loss: 1.514008\n",
      "Epoch: 7 \tTraining Loss: 4.405517 \tValidation Loss: 1.586579\n",
      "Epoch: 8 \tTraining Loss: 4.899076 \tValidation Loss: 1.861950\n",
      "Epoch: 9 \tTraining Loss: 4.572801 \tValidation Loss: 1.555280\n",
      "Epoch: 10 \tTraining Loss: 4.198290 \tValidation Loss: 1.481267\n",
      "Validation loss decreased (1.499869 --> 1.481267).  Saving model ...\n",
      "Epoch: 11 \tTraining Loss: 4.387689 \tValidation Loss: 1.555388\n",
      "Epoch: 12 \tTraining Loss: 4.276709 \tValidation Loss: 1.704948\n",
      "Epoch: 13 \tTraining Loss: 4.086741 \tValidation Loss: 1.533119\n",
      "Epoch: 14 \tTraining Loss: 4.131846 \tValidation Loss: 1.439931\n",
      "Validation loss decreased (1.481267 --> 1.439931).  Saving model ...\n",
      "Epoch: 15 \tTraining Loss: 3.993315 \tValidation Loss: 1.769052\n",
      "Epoch: 16 \tTraining Loss: 4.286018 \tValidation Loss: 1.484015\n",
      "Epoch: 17 \tTraining Loss: 3.996838 \tValidation Loss: 1.654063\n",
      "Epoch: 18 \tTraining Loss: 4.072841 \tValidation Loss: 1.569225\n",
      "Epoch: 19 \tTraining Loss: 3.978191 \tValidation Loss: 1.684721\n",
      "Epoch: 20 \tTraining Loss: 3.947727 \tValidation Loss: 1.449753\n"
     ]
    }
   ],
   "source": [
    "# number of epochs to train the model\n",
    "n_epochs = 20 # you may increase this number to train a final model\n",
    "\n",
    "valid_loss_min = np.Inf # track change in validation loss\n",
    "\n",
    "for epoch in range(1, n_epochs+1):\n",
    "\n",
    "    # keep track of training and validation loss\n",
    "    train_loss = 0.0\n",
    "    valid_loss = 0.0\n",
    "    \n",
    "    ###################\n",
    "    # train the model #\n",
    "    ###################\n",
    "    model.train()\n",
    "    for data, target in train_loader:\n",
    "        # clear the gradients of all optimized variables\n",
    "        optimizer.zero_grad()\n",
    "        # forward pass: compute predicted outputs by passing inputs to the model\n",
    "        output = model(data)\n",
    "        # calculate the batch loss\n",
    "        loss = criterion(output, target)\n",
    "        # backward pass: compute gradient of the loss with respect to model parameters\n",
    "        loss.backward()\n",
    "        # perform a single optimization step (parameter update)\n",
    "        optimizer.step()\n",
    "        # update training loss\n",
    "        train_loss += loss.item()*data.size(0)\n",
    "        \n",
    "    ######################    \n",
    "    # validate the model #\n",
    "    ######################\n",
    "    model.eval()\n",
    "    for data, target in val_loader:\n",
    "        # forward pass: compute predicted outputs by passing inputs to the model\n",
    "        output = model(data)\n",
    "        # calculate the batch loss\n",
    "        loss = criterion(output, target)\n",
    "        # update average validation loss \n",
    "        valid_loss += loss.item()*data.size(0)\n",
    "    \n",
    "    # calculate average losses\n",
    "    train_loss = train_loss/len(train_loader.dataset)\n",
    "    valid_loss = valid_loss/len(val_loader.dataset)\n",
    "        \n",
    "    # print training/validation statistics \n",
    "    print('Epoch: {} \\tTraining Loss: {:.6f} \\tValidation Loss: {:.6f}'.format(\n",
    "        epoch, train_loss, valid_loss))\n",
    "    \n",
    "    # save model if validation loss has decreased\n",
    "    if valid_loss <= valid_loss_min:\n",
    "        print('Validation loss decreased ({:.6f} --> {:.6f}).  Saving model ...'.format(\n",
    "        valid_loss_min,\n",
    "        valid_loss))\n",
    "        torch.save(model.state_dict(), 'model_2_lyrs.pt')\n",
    "        valid_loss_min = valid_loss"
   ]
  },
  {
   "cell_type": "code",
   "execution_count": 155,
   "metadata": {},
   "outputs": [],
   "source": [
    "model.load_state_dict(torch.load('model_2_lyrs.pt'))"
   ]
  },
  {
   "cell_type": "code",
   "execution_count": 156,
   "metadata": {},
   "outputs": [
    {
     "data": {
      "text/plain": [
       "model(\n",
       "  (l1): Linear(in_features=5, out_features=64, bias=True)\n",
       "  (out): Linear(in_features=64, out_features=1, bias=True)\n",
       "  (dropout): Dropout(p=0.2)\n",
       ")"
      ]
     },
     "execution_count": 156,
     "metadata": {},
     "output_type": "execute_result"
    }
   ],
   "source": [
    "model.eval()"
   ]
  },
  {
   "cell_type": "code",
   "execution_count": 162,
   "metadata": {},
   "outputs": [],
   "source": [
    "x,y = next(iter(test_loader))"
   ]
  },
  {
   "cell_type": "code",
   "execution_count": 388,
   "metadata": {},
   "outputs": [],
   "source": [
    "x_ = x[0].unsqueeze(0)"
   ]
  },
  {
   "cell_type": "code",
   "execution_count": 163,
   "metadata": {},
   "outputs": [],
   "source": [
    "preds = model(x)"
   ]
  },
  {
   "cell_type": "code",
   "execution_count": 164,
   "metadata": {},
   "outputs": [
    {
     "data": {
      "text/plain": [
       "tensor([[56.8363, 57.1913, 56.8358, 56.7905, 56.9285, 56.7792, 56.8845, 56.8919,\n",
       "         56.7863, 56.8329, 56.9175, 56.7302, 56.8855, 56.8191, 56.9052, 56.7819,\n",
       "         56.8846, 56.7568, 56.9302, 57.0903, 56.9028, 57.0780, 56.8853, 56.8606,\n",
       "         56.7575, 56.7169, 57.2291, 56.7599, 56.7539, 56.7548, 56.9422, 56.9058,\n",
       "         57.0050, 56.7899, 56.9032, 56.9352, 56.8489, 56.6953, 56.8506, 56.9024,\n",
       "         56.8356, 56.9897, 56.7751, 57.1013, 56.9433, 56.8695, 56.7327, 56.8641,\n",
       "         56.7980, 56.8566, 56.8290, 56.9616, 56.8880, 56.8156, 56.8335, 56.7691,\n",
       "         56.7736, 56.8281, 56.9220, 56.7943, 56.8711, 56.7869, 57.0234, 56.9460]],\n",
       "       grad_fn=<ViewBackward>)"
      ]
     },
     "execution_count": 164,
     "metadata": {},
     "output_type": "execute_result"
    }
   ],
   "source": [
    "preds.view(-1,64)"
   ]
  },
  {
   "cell_type": "code",
   "execution_count": 165,
   "metadata": {},
   "outputs": [
    {
     "data": {
      "text/plain": [
       "tensor([59.0000, 54.0000, 57.0000, 56.0000, 55.0000, 57.0000, 60.0000, 57.0000,\n",
       "        55.0000, 54.0000, 60.0000, 56.0000, 56.0000, 56.0000, 58.0000, 56.0000,\n",
       "        56.0000, 57.0000, 57.0000, 59.0000, 59.0000, 58.0000, 56.0000, 57.0000,\n",
       "        56.0000, 55.0000, 59.0000, 55.8000, 54.0000, 56.0000, 61.0000, 59.0000,\n",
       "        59.0000, 56.0000, 56.0000, 60.0000, 60.0000, 58.0000, 57.0000, 56.0000,\n",
       "        58.0000, 57.0000, 56.0000, 61.0000, 54.5000, 56.0000, 57.0000, 57.0000,\n",
       "        55.0000, 57.0000, 57.0000, 56.0000, 55.0000, 57.0000, 54.0000, 57.0000,\n",
       "        57.0000, 55.0000, 60.0000, 55.0000, 59.0000, 60.0000, 60.0000, 58.0000])"
      ]
     },
     "execution_count": 165,
     "metadata": {},
     "output_type": "execute_result"
    }
   ],
   "source": [
    "y"
   ]
  },
  {
   "cell_type": "code",
   "execution_count": 166,
   "metadata": {},
   "outputs": [
    {
     "data": {
      "text/plain": [
       "tensor(15)"
      ]
     },
     "execution_count": 166,
     "metadata": {},
     "output_type": "execute_result"
    }
   ],
   "source": [
    "torch.isclose(y.type(torch.int32), preds.type(torch.int32).data[1]).sum()"
   ]
  },
  {
   "cell_type": "code",
   "execution_count": 161,
   "metadata": {},
   "outputs": [
    {
     "data": {
      "text/plain": [
       "tensor(21)"
      ]
     },
     "execution_count": 161,
     "metadata": {},
     "output_type": "execute_result"
    }
   ],
   "source": [
    "torch.isclose(y.type(torch.int32), preds.type(torch.int32).data[1]).sum()"
   ]
  },
  {
   "cell_type": "code",
   "execution_count": null,
   "metadata": {},
   "outputs": [],
   "source": []
  }
 ],
 "metadata": {
  "kernelspec": {
   "display_name": "Python 3",
   "language": "python",
   "name": "python3"
  }
 },
 "nbformat": 4,
 "nbformat_minor": 1
}
